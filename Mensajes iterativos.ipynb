{
 "cells": [
  {
   "cell_type": "markdown",
   "id": "71d08955",
   "metadata": {},
   "source": [
    "### Desarrollo de mensajes iterativos\n",
    "En esta lección, analizará y refinará iterativamente sus mensajes para generar una copia de marketing a partir de una hoja de datos del producto."
   ]
  },
  {
   "cell_type": "code",
   "execution_count": 2,
   "id": "d54af4d4",
   "metadata": {},
   "outputs": [],
   "source": [
    "import openai\n",
    "import os\n",
    "\n",
    "from dotenv import load_dotenv, find_dotenv\n",
    "_ = load_dotenv(find_dotenv()) # read local .env file\n",
    "\n",
    "openai.api_key  = os.getenv('OPENAI_API_KEY')"
   ]
  },
  {
   "cell_type": "code",
   "execution_count": 3,
   "id": "f2a1b289",
   "metadata": {},
   "outputs": [],
   "source": [
    "def get_completion(prompt, model=\"gpt-3.5-turbo\"):\n",
    "    messages = [{\"role\": \"user\", \"content\": prompt}]\n",
    "    response = openai.ChatCompletion.create(\n",
    "        model=model,\n",
    "        messages=messages,\n",
    "        temperature=0, # this is the degree of randomness of the model's output\n",
    "    )\n",
    "    return response.choices[0].message[\"content\"]"
   ]
  },
  {
   "cell_type": "markdown",
   "id": "1436ff6a",
   "metadata": {},
   "source": [
    "Generar una descripción de producto de marketing a partir de una hoja de datos del producto"
   ]
  },
  {
   "cell_type": "code",
   "execution_count": 4,
   "id": "25870c58",
   "metadata": {},
   "outputs": [],
   "source": [
    "fact_sheet_chair = \"\"\"\n",
    "VISIÓN GENERAL\n",
    "- Parte de una hermosa familia de muebles de oficina inspirados en mediados de siglo, \n",
    "incluyendo archivadores, escritorios, estanterías, mesas de reuniones y más.\n",
    "- Varias opciones de color de carcasa y acabados base.\n",
    "- Disponible con tapicería trasera y frontal de plástico (SWC-100) \n",
    "o tapicería completa (SWC-110) en 10 opciones de tela y 6 de cuero.\n",
    "CONSTRUCCIÓN\n",
    "- Base de aluminio recubierta de plástico de 5 ruedas.\n",
    "- Ajuste neumático de la silla para una fácil acción de subida / bajada.\n",
    "\n",
    "DIMENSIONES\n",
    "- ANCHO 53 CM | 20.87\"\n",
    "- PROFUNDIDAD 51 CM | 20.08\"\n",
    "- ALTURA 80 CM | 31.50\"\n",
    "- ALTURA DEL ASIENTO 44 CM | 17.32\"\n",
    "- PROFUNDIDAD DEL ASIENTO 41 CM | 16.14\"\n",
    "OPCIONES\n",
    "- Opciones de ruedas blandas o de piso duro.\n",
    "- Dos opciones de densidades de espuma del asiento: \n",
    " mediano (1.8 lb/ft3) o alto (2.8 lb/ft3)\n",
    "- Reposabrazos sin brazos o de PU de 8 posiciones \n",
    "MATERIALES\n",
    "PLANEADOR DE BASE SHELL\n",
    "- Aluminio fundido con revestimiento de nylon PA6/PA66 modificado.\n",
    "- Espesor de la carcasa: 10 mm.\n",
    "ASIENTO\n",
    "- Espuma HD36\n",
    "\n",
    "PAÍS DE ORIGEN\n",
    "-Italia\n",
    "\"\"\""
   ]
  },
  {
   "cell_type": "code",
   "execution_count": 5,
   "id": "0257e8c6",
   "metadata": {},
   "outputs": [
    {
     "name": "stdout",
     "output_type": "stream",
     "text": [
      "Descripción del producto:\n",
      "\n",
      "La silla de oficina SWC es parte de una hermosa familia de muebles de oficina inspirados en mediados de siglo, que incluye archivadores, escritorios, estanterías, mesas de reuniones y más. Esta silla está disponible en varias opciones de color de carcasa y acabados base, y se puede elegir con tapicería trasera y frontal de plástico o tapicería completa en 10 opciones de tela y 6 de cuero.\n",
      "\n",
      "La construcción de la silla cuenta con una base de aluminio recubierta de plástico de 5 ruedas y un ajuste neumático para una fácil acción de subida / bajada. Sus dimensiones son de 53 cm de ancho, 51 cm de profundidad y 80 cm de altura, con una altura del asiento de 44 cm y una profundidad del asiento de 41 cm.\n",
      "\n",
      "La silla SWC ofrece varias opciones, como ruedas blandas o de piso duro, dos opciones de densidades de espuma del asiento (mediano o alto) y reposabrazos sin brazos o de PU de 8 posiciones. La carcasa del planeador de base está hecha de aluminio fundido con revestimiento de nylon PA6/PA66 modificado, con un espesor de 10 mm. El asiento cuenta con espuma HD36.\n",
      "\n",
      "La silla SWC es de origen italiano y es una opción elegante y cómoda para cualquier oficina.\n"
     ]
    }
   ],
   "source": [
    "prompt = f\"\"\"Su tarea es ayudar a un equipo de marketing a crear un \n",
    "Descripción para un sitio web minorista de un producto basado en \n",
    "en una hoja informativa técnica.\n",
    "\n",
    "Escribir una descripción del producto basada en la información \n",
    "previstos en las especificaciones técnicas delimitadas por \n",
    "Triple backticks.\n",
    "\n",
    "Especificaciones técnicas: ```{fact_sheet_chair}```\n",
    "\"\"\"\n",
    "response = get_completion(prompt)\n",
    "print(response)"
   ]
  },
  {
   "cell_type": "markdown",
   "id": "ae327356",
   "metadata": {},
   "source": [
    "#### Problema 1: El texto es demasiado largo\n",
    "Limite el número de palabras/oraciones/caracteres."
   ]
  },
  {
   "cell_type": "code",
   "execution_count": 6,
   "id": "7a889e68",
   "metadata": {},
   "outputs": [
    {
     "name": "stdout",
     "output_type": "stream",
     "text": [
      "Nuestra silla de oficina de mediados de siglo es parte de una hermosa familia de muebles que incluye archivadores, escritorios, estanterías y mesas de reuniones. Con varias opciones de color y acabado, y tapicería de tela o cuero, esta silla cuenta con una base de aluminio recubierta de plástico de 5 ruedas y ajuste neumático para una fácil acción de subida / bajada. Disponible en opciones de ruedas blandas o de piso duro, dos opciones de densidades de espuma del asiento y reposabrazos sin brazos o de PU de 8 posiciones. Fabricada en Italia con materiales de alta calidad.\n"
     ]
    }
   ],
   "source": [
    "prompt = f\"\"\"Su tarea es ayudar a un equipo de marketing a crear un \n",
    "Descripción para un sitio web minorista de un producto basado en \n",
    "en una hoja informativa técnica.\n",
    "\n",
    "Escribir una descripción del producto basada en la información \n",
    "previstos en las especificaciones técnicas delimitadas por \n",
    "Triple backticks.\n",
    "Usa no mas de 50 palabras.\n",
    "\n",
    "Especificaciones técnicas: ```{fact_sheet_chair}```\n",
    "\"\"\"\n",
    "response = get_completion(prompt)\n",
    "print(response)"
   ]
  },
  {
   "cell_type": "code",
   "execution_count": 7,
   "id": "5e68beff",
   "metadata": {},
   "outputs": [
    {
     "data": {
      "text/plain": [
       "578"
      ]
     },
     "execution_count": 7,
     "metadata": {},
     "output_type": "execute_result"
    }
   ],
   "source": [
    "len(response)"
   ]
  },
  {
   "cell_type": "markdown",
   "id": "3f11c41d",
   "metadata": {},
   "source": [
    "#### Problema 2. El texto se centra en los detalles incorrectos\n",
    "Pídale que se centre en los aspectos que son relevantes para el público objetivo."
   ]
  },
  {
   "cell_type": "code",
   "execution_count": 8,
   "id": "f29c5e89",
   "metadata": {},
   "outputs": [
    {
     "name": "stdout",
     "output_type": "stream",
     "text": [
      "Introduzca la elegancia de mediados de siglo en su oficina con nuestra silla de oficina inspirada en la época. Con una base de aluminio recubierta de plástico de 5 ruedas y ajuste neumático, esta silla es fácil de ajustar. Disponible en una variedad de opciones de color y tapicería, incluyendo 10 opciones de tela y 6 de cuero. La carcasa de aluminio fundido con revestimiento de nylon PA6/PA66 modificado y el asiento de espuma HD36 aseguran la durabilidad y comodidad. Fabricado en Italia.\n"
     ]
    }
   ],
   "source": [
    "prompt = f\"\"\"Su tarea es ayudar a un equipo de marketing a crear un \n",
    "Descripción para un sitio web minorista de un producto basado en \n",
    "en una hoja informativa técnica.\n",
    "\n",
    "Escribir una descripción del producto basada en la información \n",
    "previstos en las especificaciones técnicas delimitadas por \n",
    "Triple backticks.\n",
    "La descripción está destinada a los minoristas de muebles, \n",
    "por lo tanto, debe ser de naturaleza técnica y centrarse en el \n",
    "Materiales a partir de los cuales se construye el producto.\n",
    "Usa no mas de 50 palabras.\n",
    "\n",
    "Especificaciones técnicas: ```{fact_sheet_chair}```\n",
    "\"\"\"\n",
    "response = get_completion(prompt)\n",
    "print(response)"
   ]
  },
  {
   "cell_type": "code",
   "execution_count": 9,
   "id": "2cd9d9e9",
   "metadata": {},
   "outputs": [
    {
     "name": "stdout",
     "output_type": "stream",
     "text": [
      "Presentamos nuestra silla de oficina inspirada en mediados de siglo, parte de una hermosa familia de muebles. Con opciones de color de carcasa y acabados base, y tapicería trasera y frontal de plástico o completa en tela o cuero. La base de aluminio recubierta de plástico de 5 ruedas y ajuste neumático de la silla hacen que sea fácil de usar. Las dimensiones son 53x51x80 cm, con opciones de ruedas blandas o de piso duro, dos opciones de densidades de espuma del asiento y reposabrazos sin brazos o de PU de 8 posiciones. La carcasa está hecha de aluminio fundido con revestimiento de nylon PA6/PA66 modificado y el asiento de espuma HD36. Hecho en Italia. ID del producto: SWC-100/SWC-110.\n"
     ]
    }
   ],
   "source": [
    "prompt = f\"\"\"Su tarea es ayudar a un equipo de marketing a crear un \n",
    "Descripción para un sitio web minorista de un producto basado en \n",
    "en una hoja informativa técnica.\n",
    "\n",
    "Escribir una descripción del producto basada en la información \n",
    "previstos en las especificaciones técnicas delimitadas por \n",
    "Triple backticks.\n",
    "La descripción está destinada a los minoristas de muebles, \n",
    "por lo tanto, debe ser de naturaleza técnica y centrarse en el \n",
    "Materiales a partir de los cuales se construye el producto.\n",
    "\n",
    "Al final de la descripción, incluya cada 7 caracteres \n",
    "ID del producto en la especificación técnica.\n",
    "Usa no mas de 50 palabras.\n",
    "\n",
    "Especificaciones técnicas: ```{fact_sheet_chair}```\n",
    "\"\"\"\n",
    "response = get_completion(prompt)\n",
    "print(response)"
   ]
  },
  {
   "cell_type": "markdown",
   "id": "e15c5bdc",
   "metadata": {},
   "source": [
    "#### Problema 3. La descripción necesita una tabla de dimensiones\n",
    "Pídale que extraiga información y organícela en una tabla."
   ]
  },
  {
   "cell_type": "code",
   "execution_count": 10,
   "id": "2cf02749",
   "metadata": {},
   "outputs": [
    {
     "name": "stdout",
     "output_type": "stream",
     "text": [
      "<div>\n",
      "<h2>Descripción del producto</h2>\n",
      "<p>El sillón de oficina SWC es parte de una hermosa familia de muebles de oficina inspirados en mediados de siglo. Con varias opciones de color de carcasa y acabados base, este sillón está disponible con tapicería trasera y frontal de plástico o tapicería completa en 10 opciones de tela y 6 de cuero. La base de aluminio recubierta de plástico de 5 ruedas y el ajuste neumático de la silla permiten una fácil acción de subida / bajada. Además, hay opciones de ruedas blandas o de piso duro, dos opciones de densidades de espuma del asiento y reposabrazos sin brazos o de PU de 8 posiciones. La carcasa del sillón está hecha de aluminio fundido con revestimiento de nylon PA6/PA66 modificado con un espesor de 10 mm, mientras que el asiento está hecho de espuma HD36. Fabricado en Italia.</p>\n",
      "<p>ID del producto: SWC-100</p>\n",
      "</div>\n",
      "\n",
      "<table>\n",
      "  <caption>Dimensiones del producto</caption>\n",
      "  <tr>\n",
      "    <th>Dimensión</th>\n",
      "    <th>Medida (pulgadas)</th>\n",
      "  </tr>\n",
      "  <tr>\n",
      "    <td>Ancho</td>\n",
      "    <td>20.87\"</td>\n",
      "  </tr>\n",
      "  <tr>\n",
      "    <td>Profundidad</td>\n",
      "    <td>20.08\"</td>\n",
      "  </tr>\n",
      "  <tr>\n",
      "    <td>Altura</td>\n",
      "    <td>31.50\"</td>\n",
      "  </tr>\n",
      "  <tr>\n",
      "    <td>Altura del asiento</td>\n",
      "    <td>17.32\"</td>\n",
      "  </tr>\n",
      "  <tr>\n",
      "    <td>Profundidad del asiento</td>\n",
      "    <td>16.14\"</td>\n",
      "  </tr>\n",
      "</table>\n"
     ]
    }
   ],
   "source": [
    "prompt = f\"\"\"Su tarea es ayudar a un equipo de marketing a crear un \n",
    "Descripción para un sitio web minorista de un producto basado en \n",
    "en una hoja informativa técnica.\n",
    "\n",
    "Escribir una descripción del producto basada en la información \n",
    "previstos en las especificaciones técnicas delimitadas por \n",
    "Triple backticks.\n",
    "La descripción está destinada a los minoristas de muebles, \n",
    "por lo tanto, debe ser de naturaleza técnica y centrarse en el \n",
    "Materiales a partir de los cuales se construye el producto.\n",
    "\n",
    "Al final de la descripción, incluya cada 7 caracteres \n",
    "ID del producto en la especificación técnica.\n",
    "Después de la descripción, incluya una tabla que proporcione el \n",
    "Dimensiones del producto. La tabla debe tener dos columnas.\n",
    "En la primera columna incluya el nombre de la dimensión. \n",
    "En la segunda columna incluya las medidas en pulgadas solamente.\n",
    "\n",
    "Asigne a la tabla el título \"Dimensiones del producto\".\n",
    "\n",
    "Formatee todo como HTML que se puede usar en un sitio web. \n",
    "Coloque la descripción en un <div> elemento.\n",
    "\n",
    "Especificaciones técnicas: ```{fact_sheet_chair}```\n",
    "\"\"\"\n",
    "response = get_completion(prompt)\n",
    "print(response)"
   ]
  },
  {
   "cell_type": "code",
   "execution_count": 11,
   "id": "41c2c765",
   "metadata": {},
   "outputs": [],
   "source": [
    "from IPython.display import display, HTML"
   ]
  },
  {
   "cell_type": "code",
   "execution_count": 12,
   "id": "33a65914",
   "metadata": {},
   "outputs": [
    {
     "data": {
      "text/html": [
       "<div>\n",
       "<h2>Descripción del producto</h2>\n",
       "<p>El sillón de oficina SWC es parte de una hermosa familia de muebles de oficina inspirados en mediados de siglo. Con varias opciones de color de carcasa y acabados base, este sillón está disponible con tapicería trasera y frontal de plástico o tapicería completa en 10 opciones de tela y 6 de cuero. La base de aluminio recubierta de plástico de 5 ruedas y el ajuste neumático de la silla permiten una fácil acción de subida / bajada. Además, hay opciones de ruedas blandas o de piso duro, dos opciones de densidades de espuma del asiento y reposabrazos sin brazos o de PU de 8 posiciones. La carcasa del sillón está hecha de aluminio fundido con revestimiento de nylon PA6/PA66 modificado con un espesor de 10 mm, mientras que el asiento está hecho de espuma HD36. Fabricado en Italia.</p>\n",
       "<p>ID del producto: SWC-100</p>\n",
       "</div>\n",
       "\n",
       "<table>\n",
       "  <caption>Dimensiones del producto</caption>\n",
       "  <tr>\n",
       "    <th>Dimensión</th>\n",
       "    <th>Medida (pulgadas)</th>\n",
       "  </tr>\n",
       "  <tr>\n",
       "    <td>Ancho</td>\n",
       "    <td>20.87\"</td>\n",
       "  </tr>\n",
       "  <tr>\n",
       "    <td>Profundidad</td>\n",
       "    <td>20.08\"</td>\n",
       "  </tr>\n",
       "  <tr>\n",
       "    <td>Altura</td>\n",
       "    <td>31.50\"</td>\n",
       "  </tr>\n",
       "  <tr>\n",
       "    <td>Altura del asiento</td>\n",
       "    <td>17.32\"</td>\n",
       "  </tr>\n",
       "  <tr>\n",
       "    <td>Profundidad del asiento</td>\n",
       "    <td>16.14\"</td>\n",
       "  </tr>\n",
       "</table>"
      ],
      "text/plain": [
       "<IPython.core.display.HTML object>"
      ]
     },
     "metadata": {},
     "output_type": "display_data"
    }
   ],
   "source": [
    "display(HTML(response))"
   ]
  },
  {
   "cell_type": "code",
   "execution_count": 4,
   "id": "25d306c5",
   "metadata": {},
   "outputs": [
    {
     "name": "stdout",
     "output_type": "stream",
     "text": [
      "Para utilizar la sentencia 'if' de Thymeleaf en HTML, se deben seguir los siguientes pasos:\n",
      "\n",
      "1. Agregar la dependencia de Thymeleaf en el archivo pom.xml o build.gradle del proyecto.\n",
      "\n",
      "2. En el archivo HTML, se debe agregar el prefijo 'th' a la etiqueta HTML que se desea utilizar con Thymeleaf. Por ejemplo, si se desea utilizar la sentencia 'if' en una etiqueta div, se debe escribir <div th:if=\"condición\">Contenido</div>.\n",
      "\n",
      "3. En la condición, se puede utilizar cualquier expresión booleana válida en Java. Por ejemplo, si se desea mostrar el contenido de la etiqueta div solo si una variable llamada 'mostrarContenido' es verdadera, se debe escribir th:if=\"${mostrarContenido}\".\n",
      "\n",
      "4. Si se desea agregar una sentencia 'else' en caso de que la condición sea falsa, se puede utilizar la sentencia 'unless'. Por ejemplo, si se desea mostrar un mensaje de error en caso de que la variable 'mostrarContenido' sea falsa, se puede escribir <div th:if=\"${mostrarContenido}\" th:text=\"Contenido\"></div><div th:unless=\"${mostrarContenido}\" th:text=\"Error\"></div>.\n",
      "\n",
      "5. Es importante tener en cuenta que la sentencia 'if' de Thymeleaf solo afecta al contenido de la etiqueta HTML en la que se encuentra. Si se desea ocultar o mostrar una sección completa de HTML, se debe utilizar la sentencia 'th:block' con la sentencia 'if' o 'unless'. Por ejemplo, si se desea ocultar una sección completa de HTML si la variable 'mostrarSeccion' es falsa, se debe escribir <th:block th:if=\"${mostrarSeccion}\">Contenido de la sección</th:block>.\n"
     ]
    }
   ],
   "source": [
    "prompt = f\"\"\"Su tarea es explicar como utilizar 'if' de thymeleaf en html, explicalo secuencialmente y en detalle\n",
    "\"\"\"\n",
    "response = get_completion(prompt)\n",
    "print(response)"
   ]
  },
  {
   "cell_type": "code",
   "execution_count": 7,
   "id": "24c0ffaf",
   "metadata": {},
   "outputs": [
    {
     "name": "stdout",
     "output_type": "stream",
     "text": [
      "Para configurar un div en HTML, se pueden utilizar diferentes atributos y propiedades CSS para personalizar su apariencia. A continuación, se detallan los pasos para configurar un div en HTML:\n",
      "\n",
      "1. Crear el div en el código HTML: Para crear un div en HTML, se utiliza la etiqueta <div> y se cierra con </div>. Dentro de estas etiquetas se puede agregar cualquier contenido que se desee mostrar dentro del div.\n",
      "\n",
      "Ejemplo:\n",
      "\n",
      "<div>\n",
      "  <h1>Título del div</h1>\n",
      "  <p>Contenido del div</p>\n",
      "</div>\n",
      "\n",
      "2. Agregar atributos al div: Los atributos se utilizan para agregar información adicional al div, como su identificador, clase, estilo, etc. Para agregar un atributo al div, se utiliza la sintaxis nombre_atributo=\"valor\".\n",
      "\n",
      "Ejemplo:\n",
      "\n",
      "<div id=\"miDiv\" class=\"bg-danger\" style=\"color: white;\">\n",
      "  <h1>Título del div</h1>\n",
      "  <p>Contenido del div</p>\n",
      "</div>\n",
      "\n",
      "En este ejemplo, se agregaron tres atributos al div:\n",
      "\n",
      "- id=\"miDiv\": identificador único del div, que se puede utilizar para referenciarlo desde JavaScript o CSS.\n",
      "- class=\"bg-danger\": clase del div, que se utiliza para aplicar estilos CSS predefinidos. En este caso, se aplica el estilo de fondo rojo (bg-danger) de Bootstrap.\n",
      "- style=\"color: white;\": estilo personalizado del div, que se utiliza para aplicar estilos CSS específicos. En este caso, se cambia el color del texto a blanco.\n",
      "\n",
      "3. Personalizar el estilo del div con CSS: Para personalizar el estilo del div, se pueden utilizar diferentes propiedades CSS, como background-color, color, font-size, padding, margin, etc. Estas propiedades se pueden aplicar directamente al div utilizando el atributo style, o se pueden definir en un archivo CSS externo y luego referenciarlo desde el HTML utilizando la etiqueta <link>.\n",
      "\n",
      "Ejemplo:\n",
      "\n",
      "<div id=\"miDiv\" class=\"bg-primary\" style=\"color: white; font-size: 20px; padding: 10px; margin: 20px;\">\n",
      "  <h1>Título del div</h1>\n",
      "  <p>Contenido del div</p>\n",
      "</div>\n",
      "\n",
      "En este ejemplo, se agregaron cuatro propiedades CSS al div:\n",
      "\n",
      "- background-color: cambia el color de fondo del div.\n",
      "- color: cambia el color del texto dentro del div.\n",
      "- font-size: cambia el tamaño de la fuente del texto dentro del div.\n",
      "- padding: agrega un espacio interno alrededor del contenido del div.\n",
      "- margin: agrega un espacio externo alrededor del div.\n",
      "\n",
      "Para cambiar el color del div a otro diferente al rojo, se puede utilizar la propiedad background-color y asignarle el valor del color deseado en formato hexadecimal, RGB o nombre del color.\n",
      "\n",
      "Ejemplo:\n",
      "\n",
      "<div id=\"miDiv\" style=\"background-color: #00FF00;\">\n",
      "  <h1>Título del div</h1>\n",
      "  <p>Contenido del div</p>\n",
      "</div>\n",
      "\n",
      "En este ejemplo, se cambia el color de fondo del div a verde (#00FF00 en formato hexadecimal). También se eliminó la clase bg-danger y el estilo color: white para que el texto dentro del div tenga el color por defecto (negro).\n"
     ]
    }
   ],
   "source": [
    "prompt = f\"\"\"Su tarea es explicar como configurar un div en html, de manera clara y completa.\n",
    "Si utilizas class=\"bg-danger\" el color del div es rojo, de que manera podria hacerlo de otro color\n",
    "\"\"\"\n",
    "response = get_completion(prompt)\n",
    "print(response)"
   ]
  },
  {
   "cell_type": "code",
   "execution_count": 9,
   "id": "9d4be03d",
   "metadata": {},
   "outputs": [
    {
     "name": "stdout",
     "output_type": "stream",
     "text": [
      "Los botones de modificar y borrar en HTML se utilizan para permitir a los usuarios editar o eliminar elementos en una página web. A continuación, se explica cómo utilizar estos botones en detalle:\n",
      "\n",
      "1. El primer paso es agregar los botones de modificar y borrar al código HTML de la página web. Esto se puede hacer utilizando el código encerrado entre los triple backticks que se proporciona en la pregunta.\n",
      "\n",
      "2. En el código, se puede ver que cada botón tiene una clase y un atributo de datos. La clase \"btn btn-modificar\" se utiliza para dar estilo al botón de modificar, mientras que la clase \"btn btn-borrar\" se utiliza para dar estilo al botón de borrar. El atributo de datos \"data-id\" se utiliza para almacenar el ID de la noticia que se va a modificar o borrar.\n",
      "\n",
      "3. Una vez que se han agregado los botones al código HTML, se puede utilizar JavaScript para darles funcionalidad. Para hacer esto, se puede utilizar la función \"addEventListener\" para escuchar los clics en los botones y ejecutar una función correspondiente.\n",
      "\n",
      "4. Para la función de modificar, se puede utilizar el ID almacenado en el atributo de datos para buscar la noticia correspondiente en la base de datos y cargarla en un formulario de edición. Luego, se puede permitir al usuario realizar los cambios necesarios y guardarlos en la base de datos.\n",
      "\n",
      "5. Para la función de borrar, se puede utilizar el ID almacenado en el atributo de datos para buscar la noticia correspondiente en la base de datos y eliminarla. Es importante tener en cuenta que esta función debe incluir una confirmación del usuario antes de eliminar la noticia para evitar que se eliminen elementos por error.\n",
      "\n",
      "En resumen, los botones de modificar y borrar en HTML se utilizan para permitir a los usuarios editar o eliminar elementos en una página web. Para darles funcionalidad, se puede utilizar JavaScript para escuchar los clics en los botones y ejecutar funciones correspondientes que utilicen el ID almacenado en el atributo de datos para buscar y modificar o eliminar elementos en la base de datos.\n"
     ]
    }
   ],
   "source": [
    "prompt = f\"\"\"Su tarea es explicar como utilizar los botones de modificar y de borrar en html, /\n",
    "a partir del codigo encerrado entre Triple backticks\n",
    "explicalo secuencialmente y en detalle, luego como utilizar darle funcionalidad borrar y modificar relacionados con las funciones escritas en %%javascript\n",
    "´´´<button class=\"btn btn-modificar\" data-id=\"<%= noticia.id %>\">Modificar</button>\n",
    "                <button class=\"btn btn-borrar\" data-id=\"<%= noticia.id %>\">Borrar</button>´´´\n",
    "\"\"\"\n",
    "response = get_completion(prompt)\n",
    "print(response)\n"
   ]
  },
  {
   "cell_type": "code",
   "execution_count": null,
   "id": "820fe372",
   "metadata": {},
   "outputs": [],
   "source": []
  }
 ],
 "metadata": {
  "kernelspec": {
   "display_name": "Python 3 (ipykernel)",
   "language": "python",
   "name": "python3"
  },
  "language_info": {
   "codemirror_mode": {
    "name": "ipython",
    "version": 3
   },
   "file_extension": ".py",
   "mimetype": "text/x-python",
   "name": "python",
   "nbconvert_exporter": "python",
   "pygments_lexer": "ipython3",
   "version": "3.9.13"
  }
 },
 "nbformat": 4,
 "nbformat_minor": 5
}
