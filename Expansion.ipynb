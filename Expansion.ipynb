{
 "cells": [
  {
   "cell_type": "markdown",
   "id": "2bf643aa",
   "metadata": {},
   "source": [
    "# En expansión\n",
    "En esta lección, generará correos electrónicos de servicio al cliente que se adaptan a la revisión de cada cliente."
   ]
  },
  {
   "cell_type": "code",
   "execution_count": 1,
   "id": "65b832d2",
   "metadata": {},
   "outputs": [],
   "source": [
    "import openai\n",
    "import os\n",
    "\n",
    "from dotenv import load_dotenv, find_dotenv\n",
    "_ = load_dotenv(find_dotenv()) # read local .env file\n",
    "\n",
    "openai.api_key  = os.getenv('OPENAI_API_KEY')"
   ]
  },
  {
   "cell_type": "code",
   "execution_count": 2,
   "id": "2d1603a8",
   "metadata": {},
   "outputs": [],
   "source": [
    "def get_completion(prompt, model=\"gpt-3.5-turbo\",temperature=0): # Andrew mentioned that the prompt/ completion paradigm is preferable for this class\n",
    "    messages = [{\"role\": \"user\", \"content\": prompt}]\n",
    "    response = openai.ChatCompletion.create(\n",
    "        model=model,\n",
    "        messages=messages,\n",
    "        temperature=temperature, # this is the degree of randomness of the model's output\n",
    "    )\n",
    "    return response.choices[0].message[\"content\"]"
   ]
  },
  {
   "cell_type": "markdown",
   "id": "381ea07f",
   "metadata": {},
   "source": [
    "## Personaliza la respuesta automática a un correo electrónico del cliente\n",
    "\n"
   ]
  },
  {
   "cell_type": "code",
   "execution_count": 6,
   "id": "ceb4a11f",
   "metadata": {},
   "outputs": [],
   "source": [
    "# dado el sentimiento de la lección sobre \"inferir\",\n",
    "# y el mensaje original del cliente, personalice el correo electrónico\n",
    "sentimiento = \"positivo\" #(negativo/positivo)\n",
    "\n",
    "# revisión para una licuadora\n",
    "\n",
    "reseña = f\"\"\"\n",
    "Entonces, todavía tenían el sistema de 17 piezas en temporada \n",
    "venta por alrededor de $ 49 en el mes de noviembre, alrededor de \n",
    "mitad de descuento, pero por alguna razón (llámalo aumento de precios) \n",
    "alrededor de la segunda semana de diciembre todos los precios subieron \n",
    "hasta alrededor de $70-$89 por el mismo \n",
    "sistema. Y el sistema de 11 piezas subió alrededor de $10 o\n",
    "así que en precio también desde el precio de venta anterior de $29. \n",
    "Entonces se ve bien, pero si miras la base, la parte \n",
    "donde la hoja se traba en su lugar no se ve tan bien \n",
    "como en ediciones anteriores de hace unos años, pero yo \n",
    "planeo ser muy gentil con él (ejemplo, aplasto \n",
    "artículos muy duros como frijoles, hielo, arroz, etc. en el \n",
    "licuadora primero y luego pulverícelos en el tamaño de la porción \n",
    "Quiero en la licuadora luego cambiar a la batida \n",
    "hoja para una harina más fina, y use la hoja de corte transversal \n",
    "primero cuando haga batidos, luego use la cuchilla plana \n",
    "si los necesito más finos/menos pulposos). Consejo especial al hacer \n",
    "batidos, corte finamente y congele las frutas y \n",
    "Verduras (si usa espinacas, estofado ligeramente, ablande el \n",
    "espinaca luego congélela hasta que esté lista para usar, y si está haciendo \n",
    "sorbete, use un procesador de alimentos de tamaño pequeño a mediano) \n",
    "que planea usar de esa manera puede evitar agregar \n",
    "mucho hielo, si es que lo hay, al hacer su batido. \n",
    "Después de aproximadamente un año, el motor estaba haciendo un ruido extraño. \n",
    "Llamé al servicio de atención al cliente pero la garantía expiró \n",
    "ya, así que tuve que comprar otro. FYI: El general\n",
    "la calidad se ha hecho en este tipo de productos, por lo que \n",
    "en cierto modo cuentan con el reconocimiento de la marca y \n",
    "fidelización del consumidor para mantener las ventas. Lo tengo en alrededor de \n",
    "dos días.\n",
    "\"\"\"\n",
    "\n"
   ]
  },
  {
   "cell_type": "code",
   "execution_count": 7,
   "id": "4bd5fc56",
   "metadata": {},
   "outputs": [
    {
     "name": "stdout",
     "output_type": "stream",
     "text": [
      "Estimado cliente,\n",
      "\n",
      "Gracias por tomarse el tiempo de compartir su experiencia con nuestro sistema de 17 piezas. Nos complace saber que pudo aprovechar nuestra oferta de temporada y obtener un gran descuento en su compra. También apreciamos sus consejos útiles sobre cómo usar el sistema de manera efectiva.\n",
      "\n",
      "Nos alegra saber que está satisfecho con la calidad general del producto y esperamos que siga disfrutando de su uso. Agradecemos su lealtad como cliente y esperamos poder seguir brindándole productos de alta calidad en el futuro.\n",
      "\n",
      "Gracias de nuevo por su revisión y por elegir nuestros productos.\n",
      "\n",
      "Atentamente,\n",
      "Agente de cliente de AI\n"
     ]
    }
   ],
   "source": [
    "prompt = f\"\"\"Eres un asistente de IA de servicio al cliente.\n",
    "Su tarea es enviar una respuesta por correo electrónico a un cliente valioso.\n",
    "Dado el correo electrónico del cliente delimitado por ```, \n",
    "Genere una respuesta para agradecer al cliente por su revisión.\n",
    "Si el sentimiento es positivo o neutral, agradézcales por \n",
    "su revisión.\n",
    "Si el sentimiento es negativo, pida disculpas y sugiera que \n",
    "pueden ponerse en contacto con el servicio de atención al cliente.\n",
    "Asegúrese de usar detalles específicos de la revisión.\n",
    "Escribe en un tono conciso y profesional.\n",
    "Firme el correo electrónico como `Agente de cliente de AI`.\n",
    "reseña del cliente: {reseña}\n",
    "sentimiento: {sentimiento}\n",
    "\"\"\"\n",
    "response = get_completion(prompt)\n",
    "print(response)"
   ]
  },
  {
   "cell_type": "code",
   "execution_count": null,
   "id": "7cf5fdf8",
   "metadata": {},
   "outputs": [],
   "source": []
  }
 ],
 "metadata": {
  "kernelspec": {
   "display_name": "Python 3 (ipykernel)",
   "language": "python",
   "name": "python3"
  },
  "language_info": {
   "codemirror_mode": {
    "name": "ipython",
    "version": 3
   },
   "file_extension": ".py",
   "mimetype": "text/x-python",
   "name": "python",
   "nbconvert_exporter": "python",
   "pygments_lexer": "ipython3",
   "version": "3.9.13"
  }
 },
 "nbformat": 4,
 "nbformat_minor": 5
}
