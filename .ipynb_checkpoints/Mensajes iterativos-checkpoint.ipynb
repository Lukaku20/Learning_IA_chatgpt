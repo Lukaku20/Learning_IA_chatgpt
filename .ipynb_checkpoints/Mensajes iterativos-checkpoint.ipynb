{
 "cells": [
  {
   "cell_type": "markdown",
   "id": "71d08955",
   "metadata": {},
   "source": [
    "### Desarrollo de mensajes iterativos\n",
    "En esta lección, analizará y refinará iterativamente sus mensajes para generar una copia de marketing a partir de una hoja de datos del producto."
   ]
  },
  {
   "cell_type": "code",
   "execution_count": 1,
   "id": "d54af4d4",
   "metadata": {},
   "outputs": [],
   "source": [
    "import openai\n",
    "import os\n",
    "\n",
    "from dotenv import load_dotenv, find_dotenv\n",
    "_ = load_dotenv(find_dotenv()) # read local .env file\n",
    "\n",
    "openai.api_key  = os.getenv('OPENAI_API_KEY')"
   ]
  },
  {
   "cell_type": "code",
   "execution_count": 2,
   "id": "f2a1b289",
   "metadata": {},
   "outputs": [],
   "source": [
    "def get_completion(prompt, model=\"gpt-3.5-turbo\"):\n",
    "    messages = [{\"role\": \"user\", \"content\": prompt}]\n",
    "    response = openai.ChatCompletion.create(\n",
    "        model=model,\n",
    "        messages=messages,\n",
    "        temperature=0, # this is the degree of randomness of the model's output\n",
    "    )\n",
    "    return response.choices[0].message[\"content\"]"
   ]
  },
  {
   "cell_type": "markdown",
   "id": "1436ff6a",
   "metadata": {},
   "source": [
    "Generar una descripción de producto de marketing a partir de una hoja de datos del producto"
   ]
  },
  {
   "cell_type": "code",
   "execution_count": 4,
   "id": "25870c58",
   "metadata": {},
   "outputs": [],
   "source": [
    "fact_sheet_chair = \"\"\"\n",
    "VISIÓN GENERAL\n",
    "- Parte de una hermosa familia de muebles de oficina inspirados en mediados de siglo, \n",
    "incluyendo archivadores, escritorios, estanterías, mesas de reuniones y más.\n",
    "- Varias opciones de color de carcasa y acabados base.\n",
    "- Disponible con tapicería trasera y frontal de plástico (SWC-100) \n",
    "o tapicería completa (SWC-110) en 10 opciones de tela y 6 de cuero.\n",
    "CONSTRUCCIÓN\n",
    "- Base de aluminio recubierta de plástico de 5 ruedas.\n",
    "- Ajuste neumático de la silla para una fácil acción de subida / bajada.\n",
    "\n",
    "DIMENSIONES\n",
    "- ANCHO 53 CM | 20.87\"\n",
    "- PROFUNDIDAD 51 CM | 20.08\"\n",
    "- ALTURA 80 CM | 31.50\"\n",
    "- ALTURA DEL ASIENTO 44 CM | 17.32\"\n",
    "- PROFUNDIDAD DEL ASIENTO 41 CM | 16.14\"\n",
    "OPCIONES\n",
    "- Opciones de ruedas blandas o de piso duro.\n",
    "- Dos opciones de densidades de espuma del asiento: \n",
    " mediano (1.8 lb/ft3) o alto (2.8 lb/ft3)\n",
    "- Reposabrazos sin brazos o de PU de 8 posiciones \n",
    "MATERIALES\n",
    "PLANEADOR DE BASE SHELL\n",
    "- Aluminio fundido con revestimiento de nylon PA6/PA66 modificado.\n",
    "- Espesor de la carcasa: 10 mm.\n",
    "ASIENTO\n",
    "- Espuma HD36\n",
    "\n",
    "PAÍS DE ORIGEN\n",
    "-Italia\n",
    "\"\"\""
   ]
  },
  {
   "cell_type": "code",
   "execution_count": 5,
   "id": "0257e8c6",
   "metadata": {},
   "outputs": [
    {
     "name": "stdout",
     "output_type": "stream",
     "text": [
      "Descripción del producto:\n",
      "\n",
      "La silla de oficina SWC es parte de una hermosa familia de muebles de oficina inspirados en mediados de siglo, que incluye archivadores, escritorios, estanterías, mesas de reuniones y más. Esta silla está disponible en varias opciones de color de carcasa y acabados base, y se puede elegir con tapicería trasera y frontal de plástico o tapicería completa en 10 opciones de tela y 6 de cuero.\n",
      "\n",
      "La construcción de la silla cuenta con una base de aluminio recubierta de plástico de 5 ruedas y un ajuste neumático para una fácil acción de subida / bajada. Sus dimensiones son de 53 cm de ancho, 51 cm de profundidad y 80 cm de altura, con una altura del asiento de 44 cm y una profundidad del asiento de 41 cm.\n",
      "\n",
      "La silla SWC ofrece varias opciones, como ruedas blandas o de piso duro, dos opciones de densidades de espuma del asiento (mediano o alto) y reposabrazos sin brazos o de PU de 8 posiciones. La carcasa del planeador de base está hecha de aluminio fundido con revestimiento de nylon PA6/PA66 modificado, con un espesor de 10 mm. El asiento cuenta con espuma HD36.\n",
      "\n",
      "La silla SWC es de origen italiano y es una opción elegante y cómoda para cualquier oficina.\n"
     ]
    }
   ],
   "source": [
    "prompt = f\"\"\"Su tarea es ayudar a un equipo de marketing a crear un \n",
    "Descripción para un sitio web minorista de un producto basado en \n",
    "en una hoja informativa técnica.\n",
    "\n",
    "Escribir una descripción del producto basada en la información \n",
    "previstos en las especificaciones técnicas delimitadas por \n",
    "Triple backticks.\n",
    "\n",
    "Especificaciones técnicas: ```{fact_sheet_chair}```\n",
    "\"\"\"\n",
    "response = get_completion(prompt)\n",
    "print(response)"
   ]
  },
  {
   "cell_type": "markdown",
   "id": "ae327356",
   "metadata": {},
   "source": [
    "#### Problema 1: El texto es demasiado largo\n",
    "Limite el número de palabras/oraciones/caracteres."
   ]
  },
  {
   "cell_type": "code",
   "execution_count": 6,
   "id": "7a889e68",
   "metadata": {},
   "outputs": [
    {
     "name": "stdout",
     "output_type": "stream",
     "text": [
      "Nuestra silla de oficina de mediados de siglo es parte de una hermosa familia de muebles que incluye archivadores, escritorios, estanterías y mesas de reuniones. Con varias opciones de color y acabado, y tapicería de tela o cuero, esta silla cuenta con una base de aluminio recubierta de plástico de 5 ruedas y ajuste neumático para una fácil acción de subida / bajada. Disponible en opciones de ruedas blandas o de piso duro, dos opciones de densidades de espuma del asiento y reposabrazos sin brazos o de PU de 8 posiciones. Fabricada en Italia con materiales de alta calidad.\n"
     ]
    }
   ],
   "source": [
    "prompt = f\"\"\"Su tarea es ayudar a un equipo de marketing a crear un \n",
    "Descripción para un sitio web minorista de un producto basado en \n",
    "en una hoja informativa técnica.\n",
    "\n",
    "Escribir una descripción del producto basada en la información \n",
    "previstos en las especificaciones técnicas delimitadas por \n",
    "Triple backticks.\n",
    "Usa no mas de 50 palabras.\n",
    "\n",
    "Especificaciones técnicas: ```{fact_sheet_chair}```\n",
    "\"\"\"\n",
    "response = get_completion(prompt)\n",
    "print(response)"
   ]
  },
  {
   "cell_type": "code",
   "execution_count": 7,
   "id": "5e68beff",
   "metadata": {},
   "outputs": [
    {
     "data": {
      "text/plain": [
       "578"
      ]
     },
     "execution_count": 7,
     "metadata": {},
     "output_type": "execute_result"
    }
   ],
   "source": [
    "len(response)"
   ]
  },
  {
   "cell_type": "markdown",
   "id": "3f11c41d",
   "metadata": {},
   "source": [
    "#### Problema 2. El texto se centra en los detalles incorrectos\n",
    "Pídale que se centre en los aspectos que son relevantes para el público objetivo."
   ]
  },
  {
   "cell_type": "code",
   "execution_count": 8,
   "id": "f29c5e89",
   "metadata": {},
   "outputs": [
    {
     "name": "stdout",
     "output_type": "stream",
     "text": [
      "Introduzca la elegancia de mediados de siglo en su oficina con nuestra silla de oficina inspirada en la época. Con una base de aluminio recubierta de plástico de 5 ruedas y ajuste neumático, esta silla es fácil de ajustar. Disponible en una variedad de opciones de color y tapicería, incluyendo 10 opciones de tela y 6 de cuero. La carcasa de aluminio fundido con revestimiento de nylon PA6/PA66 modificado y el asiento de espuma HD36 aseguran la durabilidad y comodidad. Fabricado en Italia.\n"
     ]
    }
   ],
   "source": [
    "prompt = f\"\"\"Su tarea es ayudar a un equipo de marketing a crear un \n",
    "Descripción para un sitio web minorista de un producto basado en \n",
    "en una hoja informativa técnica.\n",
    "\n",
    "Escribir una descripción del producto basada en la información \n",
    "previstos en las especificaciones técnicas delimitadas por \n",
    "Triple backticks.\n",
    "La descripción está destinada a los minoristas de muebles, \n",
    "por lo tanto, debe ser de naturaleza técnica y centrarse en el \n",
    "Materiales a partir de los cuales se construye el producto.\n",
    "Usa no mas de 50 palabras.\n",
    "\n",
    "Especificaciones técnicas: ```{fact_sheet_chair}```\n",
    "\"\"\"\n",
    "response = get_completion(prompt)\n",
    "print(response)"
   ]
  },
  {
   "cell_type": "code",
   "execution_count": 9,
   "id": "2cd9d9e9",
   "metadata": {},
   "outputs": [
    {
     "name": "stdout",
     "output_type": "stream",
     "text": [
      "Presentamos nuestra silla de oficina inspirada en mediados de siglo, parte de una hermosa familia de muebles. Con opciones de color de carcasa y acabados base, y tapicería trasera y frontal de plástico o completa en tela o cuero. La base de aluminio recubierta de plástico de 5 ruedas y ajuste neumático de la silla hacen que sea fácil de usar. Las dimensiones son 53x51x80 cm, con opciones de ruedas blandas o de piso duro, dos opciones de densidades de espuma del asiento y reposabrazos sin brazos o de PU de 8 posiciones. La carcasa está hecha de aluminio fundido con revestimiento de nylon PA6/PA66 modificado y el asiento de espuma HD36. Hecho en Italia. ID del producto: SWC-100/SWC-110.\n"
     ]
    }
   ],
   "source": [
    "prompt = f\"\"\"Su tarea es ayudar a un equipo de marketing a crear un \n",
    "Descripción para un sitio web minorista de un producto basado en \n",
    "en una hoja informativa técnica.\n",
    "\n",
    "Escribir una descripción del producto basada en la información \n",
    "previstos en las especificaciones técnicas delimitadas por \n",
    "Triple backticks.\n",
    "La descripción está destinada a los minoristas de muebles, \n",
    "por lo tanto, debe ser de naturaleza técnica y centrarse en el \n",
    "Materiales a partir de los cuales se construye el producto.\n",
    "\n",
    "Al final de la descripción, incluya cada 7 caracteres \n",
    "ID del producto en la especificación técnica.\n",
    "Usa no mas de 50 palabras.\n",
    "\n",
    "Especificaciones técnicas: ```{fact_sheet_chair}```\n",
    "\"\"\"\n",
    "response = get_completion(prompt)\n",
    "print(response)"
   ]
  },
  {
   "cell_type": "markdown",
   "id": "e15c5bdc",
   "metadata": {},
   "source": [
    "#### Problema 3. La descripción necesita una tabla de dimensiones\n",
    "Pídale que extraiga información y organícela en una tabla."
   ]
  },
  {
   "cell_type": "code",
   "execution_count": 10,
   "id": "2cf02749",
   "metadata": {},
   "outputs": [
    {
     "name": "stdout",
     "output_type": "stream",
     "text": [
      "<div>\n",
      "<h2>Descripción del producto</h2>\n",
      "<p>El sillón de oficina SWC es parte de una hermosa familia de muebles de oficina inspirados en mediados de siglo. Con varias opciones de color de carcasa y acabados base, este sillón está disponible con tapicería trasera y frontal de plástico o tapicería completa en 10 opciones de tela y 6 de cuero. La base de aluminio recubierta de plástico de 5 ruedas y el ajuste neumático de la silla permiten una fácil acción de subida / bajada. Además, hay opciones de ruedas blandas o de piso duro, dos opciones de densidades de espuma del asiento y reposabrazos sin brazos o de PU de 8 posiciones. La carcasa del sillón está hecha de aluminio fundido con revestimiento de nylon PA6/PA66 modificado con un espesor de 10 mm, mientras que el asiento está hecho de espuma HD36. Fabricado en Italia.</p>\n",
      "<p>ID del producto: SWC-100</p>\n",
      "</div>\n",
      "\n",
      "<table>\n",
      "  <caption>Dimensiones del producto</caption>\n",
      "  <tr>\n",
      "    <th>Dimensión</th>\n",
      "    <th>Medida (pulgadas)</th>\n",
      "  </tr>\n",
      "  <tr>\n",
      "    <td>Ancho</td>\n",
      "    <td>20.87\"</td>\n",
      "  </tr>\n",
      "  <tr>\n",
      "    <td>Profundidad</td>\n",
      "    <td>20.08\"</td>\n",
      "  </tr>\n",
      "  <tr>\n",
      "    <td>Altura</td>\n",
      "    <td>31.50\"</td>\n",
      "  </tr>\n",
      "  <tr>\n",
      "    <td>Altura del asiento</td>\n",
      "    <td>17.32\"</td>\n",
      "  </tr>\n",
      "  <tr>\n",
      "    <td>Profundidad del asiento</td>\n",
      "    <td>16.14\"</td>\n",
      "  </tr>\n",
      "</table>\n"
     ]
    }
   ],
   "source": [
    "prompt = f\"\"\"Su tarea es ayudar a un equipo de marketing a crear un \n",
    "Descripción para un sitio web minorista de un producto basado en \n",
    "en una hoja informativa técnica.\n",
    "\n",
    "Escribir una descripción del producto basada en la información \n",
    "previstos en las especificaciones técnicas delimitadas por \n",
    "Triple backticks.\n",
    "La descripción está destinada a los minoristas de muebles, \n",
    "por lo tanto, debe ser de naturaleza técnica y centrarse en el \n",
    "Materiales a partir de los cuales se construye el producto.\n",
    "\n",
    "Al final de la descripción, incluya cada 7 caracteres \n",
    "ID del producto en la especificación técnica.\n",
    "Después de la descripción, incluya una tabla que proporcione el \n",
    "Dimensiones del producto. La tabla debe tener dos columnas.\n",
    "En la primera columna incluya el nombre de la dimensión. \n",
    "En la segunda columna incluya las medidas en pulgadas solamente.\n",
    "\n",
    "Asigne a la tabla el título \"Dimensiones del producto\".\n",
    "\n",
    "Formatee todo como HTML que se puede usar en un sitio web. \n",
    "Coloque la descripción en un <div> elemento.\n",
    "\n",
    "Especificaciones técnicas: ```{fact_sheet_chair}```\n",
    "\"\"\"\n",
    "response = get_completion(prompt)\n",
    "print(response)"
   ]
  },
  {
   "cell_type": "code",
   "execution_count": 11,
   "id": "41c2c765",
   "metadata": {},
   "outputs": [],
   "source": [
    "from IPython.display import display, HTML"
   ]
  },
  {
   "cell_type": "code",
   "execution_count": 12,
   "id": "33a65914",
   "metadata": {},
   "outputs": [
    {
     "data": {
      "text/html": [
       "<div>\n",
       "<h2>Descripción del producto</h2>\n",
       "<p>El sillón de oficina SWC es parte de una hermosa familia de muebles de oficina inspirados en mediados de siglo. Con varias opciones de color de carcasa y acabados base, este sillón está disponible con tapicería trasera y frontal de plástico o tapicería completa en 10 opciones de tela y 6 de cuero. La base de aluminio recubierta de plástico de 5 ruedas y el ajuste neumático de la silla permiten una fácil acción de subida / bajada. Además, hay opciones de ruedas blandas o de piso duro, dos opciones de densidades de espuma del asiento y reposabrazos sin brazos o de PU de 8 posiciones. La carcasa del sillón está hecha de aluminio fundido con revestimiento de nylon PA6/PA66 modificado con un espesor de 10 mm, mientras que el asiento está hecho de espuma HD36. Fabricado en Italia.</p>\n",
       "<p>ID del producto: SWC-100</p>\n",
       "</div>\n",
       "\n",
       "<table>\n",
       "  <caption>Dimensiones del producto</caption>\n",
       "  <tr>\n",
       "    <th>Dimensión</th>\n",
       "    <th>Medida (pulgadas)</th>\n",
       "  </tr>\n",
       "  <tr>\n",
       "    <td>Ancho</td>\n",
       "    <td>20.87\"</td>\n",
       "  </tr>\n",
       "  <tr>\n",
       "    <td>Profundidad</td>\n",
       "    <td>20.08\"</td>\n",
       "  </tr>\n",
       "  <tr>\n",
       "    <td>Altura</td>\n",
       "    <td>31.50\"</td>\n",
       "  </tr>\n",
       "  <tr>\n",
       "    <td>Altura del asiento</td>\n",
       "    <td>17.32\"</td>\n",
       "  </tr>\n",
       "  <tr>\n",
       "    <td>Profundidad del asiento</td>\n",
       "    <td>16.14\"</td>\n",
       "  </tr>\n",
       "</table>"
      ],
      "text/plain": [
       "<IPython.core.display.HTML object>"
      ]
     },
     "metadata": {},
     "output_type": "display_data"
    }
   ],
   "source": [
    "display(HTML(response))"
   ]
  },
  {
   "cell_type": "code",
   "execution_count": null,
   "id": "25d306c5",
   "metadata": {},
   "outputs": [],
   "source": [
    "prompt = f\"\"\"Su tarea es explicar como utilizar el thymeleaf de html, if y \n",
    "\"\"\"\n",
    "response = get_completion(prompt)\n",
    "print(response)"
   ]
  }
 ],
 "metadata": {
  "kernelspec": {
   "display_name": "Python 3 (ipykernel)",
   "language": "python",
   "name": "python3"
  },
  "language_info": {
   "codemirror_mode": {
    "name": "ipython",
    "version": 3
   },
   "file_extension": ".py",
   "mimetype": "text/x-python",
   "name": "python",
   "nbconvert_exporter": "python",
   "pygments_lexer": "ipython3",
   "version": "3.9.13"
  }
 },
 "nbformat": 4,
 "nbformat_minor": 5
}
