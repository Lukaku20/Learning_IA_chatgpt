{
 "cells": [
  {
   "cell_type": "markdown",
   "id": "2a149df6",
   "metadata": {},
   "source": [
    "# Transformando\n",
    "\n",
    "#### En este cuaderno, exploraremos cómo usar modelos de lenguaje grande para tareas de transformación de texto, como *traducción de idiomas, revisión ortográfica y gramatical, ajuste de tono y conversión de formato.*"
   ]
  },
  {
   "cell_type": "code",
   "execution_count": 2,
   "id": "8e9e63ab",
   "metadata": {},
   "outputs": [],
   "source": [
    "import openai\n",
    "import os\n",
    "\n",
    "from dotenv import load_dotenv, find_dotenv\n",
    "_ = load_dotenv(find_dotenv()) # read local .env file\n",
    "\n",
    "openai.api_key  = os.getenv('OPENAI_API_KEY')"
   ]
  },
  {
   "cell_type": "code",
   "execution_count": 3,
   "id": "e70e3b5f",
   "metadata": {},
   "outputs": [],
   "source": [
    "def get_completion(prompt, model=\"gpt-3.5-turbo\", temperature=0): \n",
    "    messages = [{\"role\": \"user\", \"content\": prompt}]\n",
    "    response = openai.ChatCompletion.create(\n",
    "        model=model,\n",
    "        messages=messages,\n",
    "        temperature=temperature, \n",
    "    )\n",
    "    return response.choices[0].message[\"content\"]"
   ]
  },
  {
   "cell_type": "markdown",
   "id": "19aec182",
   "metadata": {},
   "source": [
    "## Traducción\n",
    "\n",
    "ChatGPT está capacitado con fuentes en muchos idiomas. Esto le da al modelo la capacidad de hacer la traducción. Aquí hay algunos ejemplos de cómo usar esta capacidad."
   ]
  },
  {
   "cell_type": "code",
   "execution_count": 10,
   "id": "2a584fc9",
   "metadata": {},
   "outputs": [
    {
     "name": "stdout",
     "output_type": "stream",
     "text": [
      "Hola, me gustaría ordenar una licuadora. \n",
      "\"Arrr, ¡quiero ordenar una pelota de baloncesto, compañero!\"\n"
     ]
    }
   ],
   "source": [
    "prompt = f\"\"\"Traduce el siguiente texto en inglés a español:\n",
    "```Hi, I would like to order a blender```\n",
    "´´´Arrr, I be wantin' to order a basketball, matey!´´´\n",
    "\"\"\"\n",
    "response = get_completion(prompt)\n",
    "print(response)"
   ]
  },
  {
   "cell_type": "code",
   "execution_count": 11,
   "id": "66c531e2",
   "metadata": {},
   "outputs": [
    {
     "name": "stdout",
     "output_type": "stream",
     "text": [
      "La frase está en francés.\n"
     ]
    }
   ],
   "source": [
    "prompt = f\"\"\"\n",
    "Dime qué lenguaje usa la siguiente frase:\n",
    "```Combien coûte le lampadaire?```\n",
    "\"\"\"\n",
    "response = get_completion(prompt)\n",
    "print(response)"
   ]
  },
  {
   "cell_type": "code",
   "execution_count": 12,
   "id": "9d13d878",
   "metadata": {},
   "outputs": [
    {
     "name": "stdout",
     "output_type": "stream",
     "text": [
      "Español: Quiero pedir una pelota de baloncesto.\n",
      "Francés: Je veux commander un ballon de basket.\n",
      "Pirata inglés: Arrr, I be wantin' to order a basketball, matey!\n"
     ]
    }
   ],
   "source": [
    "prompt = f\"\"\"\n",
    "Traducir el siguiente texto a francés y español\n",
    "y pirata ingles: \n",
    "```I want to order a basketball```\n",
    "\"\"\"\n",
    "response = get_completion(prompt)\n",
    "print(response)"
   ]
  },
  {
   "cell_type": "code",
   "execution_count": 9,
   "id": "3cd655bb",
   "metadata": {},
   "outputs": [
    {
     "name": "stdout",
     "output_type": "stream",
     "text": [
      "Formal: ¿Le gustaría ordenar una almohada?\n",
      "Informal: ¿Quieres pedir una almohada?\n"
     ]
    }
   ],
   "source": [
    "prompt = f\"\"\"\n",
    "Traduce el siguiente texto al español tanto en \n",
    "formas formales e informales: \n",
    "'Would you like to order a pillow?'\n",
    "\"\"\"\n",
    "response = get_completion(prompt)\n",
    "print(response)"
   ]
  },
  {
   "cell_type": "markdown",
   "id": "505077f0",
   "metadata": {},
   "source": [
    "### Traductor universal\n",
    "Imagina que estás a cargo de IT en una gran empresa multinacional de comercio electrónico. Los usuarios le envían mensajes con problemas de IT en todos sus idiomas nativos. Su personal es de todo el mundo y solo habla sus idiomas nativos. ¡Necesitas un traductor universal!"
   ]
  },
  {
   "cell_type": "code",
   "execution_count": 14,
   "id": "f665c65b",
   "metadata": {},
   "outputs": [],
   "source": [
    "user_messages = [\n",
    "  \"La performance du système est plus lente que d'habitude.\",  # System performance is slower than normal         \n",
    "  \"Mi monitor tiene píxeles que no se iluminan.\",              # My monitor has pixels that are not lighting\n",
    "  \"我的屏幕在闪烁\"                                               # My screen is flashing\n",
    "] "
   ]
  },
  {
   "cell_type": "code",
   "execution_count": 18,
   "id": "a8e1a432",
   "metadata": {},
   "outputs": [
    {
     "name": "stdout",
     "output_type": "stream",
     "text": [
      "In English: \"The system performance is slower than usual.\"\n",
      "\n",
      "In Korean: \"시스템 성능이 평소보다 느립니다.\" \n",
      "\n",
      "Inglés: My monitor has pixels that don't light up.\n",
      "Koreano: 제 모니터에는 불이 켜지지 않는 픽셀이 있습니다. \n",
      "\n",
      "In English: \"My screen is flickering.\"\n",
      "\n",
      "In Korean: \"내 화면이 깜빡입니다.\" \n",
      "\n"
     ]
    }
   ],
   "source": [
    "for issue in user_messages:\n",
    "    prompt = f\"\"\"\n",
    "    Traduce el mensaje al Ingles y al koreano: ```{issue}```\n",
    "    \"\"\"\n",
    "    response = get_completion(prompt)\n",
    "    print(response, \"\\n\")"
   ]
  },
  {
   "cell_type": "markdown",
   "id": "84156607",
   "metadata": {},
   "source": [
    "## Transformación de tono\n",
    "La escritura puede variar en función de la audiencia prevista. ChatGPT puede producir diferentes tonos."
   ]
  },
  {
   "cell_type": "code",
   "execution_count": 19,
   "id": "5c7f7c61",
   "metadata": {},
   "outputs": [
    {
     "name": "stdout",
     "output_type": "stream",
     "text": [
      "Estimado/a, \n",
      "\n",
      "Le escribo para presentarle la especificación de nuestra lámpara de pie. Espero que sea de su interés y pueda considerarla para su negocio. \n",
      "\n",
      "Atentamente, \n",
      "Joe\n"
     ]
    }
   ],
   "source": [
    "prompt = f\"\"\"\n",
    "Traduce lo siguiente de la jerga a una carta comercial:\n",
    "'Amigo, este es Joe, echa un vistazo a esta especificación en esta lámpara de pie.'\n",
    "\"\"\"\n",
    "response = get_completion(prompt)\n",
    "print(response)"
   ]
  },
  {
   "cell_type": "markdown",
   "id": "b49af4f5",
   "metadata": {},
   "source": [
    "## Conversión de formato¶\n",
    "ChatGPT puede traducir entre formatos. El indicador debe describir los formatos de entrada y salida."
   ]
  },
  {
   "cell_type": "code",
   "execution_count": 13,
   "id": "41e226ff",
   "metadata": {},
   "outputs": [],
   "source": [
    "data_json = { \"empleados del restaurante\" :[\n",
    "    {\"nombre\":\"Shyam\", \"correo electrónico\":\"shyamjaiswal@gmail.com\"},\n",
    "    {\"nombre\":\"Bob\", \"correo electrónico\":\"bob32@gmail.com\"},\n",
    "    {\"nombre\":\"Jai\", \"correo electrónico\":\"jai87@gmail.com\"}\n",
    "]}"
   ]
  },
  {
   "cell_type": "code",
   "execution_count": 22,
   "id": "08bcad5b",
   "metadata": {},
   "outputs": [
    {
     "name": "stdout",
     "output_type": "stream",
     "text": [
      "<table>\n",
      "  <caption>Empleados del restaurante</caption>\n",
      "  <thead>\n",
      "    <tr>\n",
      "      <th>Nombre</th>\n",
      "      <th>Correo electrónico</th>\n",
      "    </tr>\n",
      "  </thead>\n",
      "  <tbody>\n",
      "    <tr>\n",
      "      <td>Shyam</td>\n",
      "      <td>shyamjaiswal@gmail.com</td>\n",
      "    </tr>\n",
      "    <tr>\n",
      "      <td>Bob</td>\n",
      "      <td>bob32@gmail.com</td>\n",
      "    </tr>\n",
      "    <tr>\n",
      "      <td>Jai</td>\n",
      "      <td>jai87@gmail.com</td>\n",
      "    </tr>\n",
      "  </tbody>\n",
      "</table>\n"
     ]
    }
   ],
   "source": [
    "prompt = f\"\"\"\n",
    "Traduce el siguiente diccionario de python de JSON a un HTML \\\n",
    "tabla con encabezados de columna y título: {data_json}\n",
    "\"\"\"\n",
    "response = get_completion(prompt)\n",
    "print(response)"
   ]
  },
  {
   "cell_type": "code",
   "execution_count": 23,
   "id": "d56dd00a",
   "metadata": {},
   "outputs": [
    {
     "data": {
      "text/html": [
       "<table>\n",
       "  <caption>Empleados del restaurante</caption>\n",
       "  <thead>\n",
       "    <tr>\n",
       "      <th>Nombre</th>\n",
       "      <th>Correo electrónico</th>\n",
       "    </tr>\n",
       "  </thead>\n",
       "  <tbody>\n",
       "    <tr>\n",
       "      <td>Shyam</td>\n",
       "      <td>shyamjaiswal@gmail.com</td>\n",
       "    </tr>\n",
       "    <tr>\n",
       "      <td>Bob</td>\n",
       "      <td>bob32@gmail.com</td>\n",
       "    </tr>\n",
       "    <tr>\n",
       "      <td>Jai</td>\n",
       "      <td>jai87@gmail.com</td>\n",
       "    </tr>\n",
       "  </tbody>\n",
       "</table>"
      ],
      "text/plain": [
       "<IPython.core.display.HTML object>"
      ]
     },
     "metadata": {},
     "output_type": "display_data"
    }
   ],
   "source": [
    "from IPython.display import display, Markdown, Latex, HTML, JSON\n",
    "display(HTML(response))"
   ]
  },
  {
   "cell_type": "markdown",
   "id": "78912414",
   "metadata": {},
   "source": [
    "## Revisión ortográfica/gramática.\n",
    "\n",
    "Estos son algunos ejemplos de problemas comunes de gramática y ortografía y la respuesta del LLM.\n",
    "\n",
    "Para indicarle al LLM que desea que corrija su texto, le indica al modelo que 'revise' o 'revise y corrija'.\n",
    "\n"
   ]
  },
  {
   "cell_type": "code",
   "execution_count": 26,
   "id": "e4e2e1db",
   "metadata": {},
   "outputs": [],
   "source": [
    "texto = [\n",
    "  \"El niñe con lo cachorros blanco y negros tienen pelota\", # La niña tiene una pelota.\n",
    "  \"Yolanda tiene sus libreta.\", #ok\n",
    "  \"Va a ser un día largo. ¿El coche necesita que le cambien la nacion?\", # Homónimos\n",
    "\n",
    "]"
   ]
  },
  {
   "cell_type": "code",
   "execution_count": 27,
   "id": "9ccc086b",
   "metadata": {
    "scrolled": true
   },
   "outputs": [
    {
     "name": "stdout",
     "output_type": "stream",
     "text": [
      "El niño con los cachorros blancos y negros tienen una pelota.\n",
      "No se encontraron errores.\n",
      "Va a ser un día largo. ¿El coche necesita que le cambien el aceite?\n"
     ]
    }
   ],
   "source": [
    "for t in texto:\n",
    "    prompt = f\"\"\"Revisa y corrige el siguiente texto\n",
    "    y reescribir la versión corregida. si no encuentras\n",
    "    y errores, simplemente diga \"No se encontraron errores\". no usar\n",
    "    cualquier puntuación alrededor del texto:\n",
    "    ```{t}```\"\"\"\n",
    "    response = get_completion(prompt)\n",
    "    print(response)\n"
   ]
  },
  {
   "cell_type": "code",
   "execution_count": 4,
   "id": "234f7d03",
   "metadata": {},
   "outputs": [],
   "source": [
    "texto = f\"\"\"\n",
    "Tengo esto para mi hija por su cumpleaños porque sigue tomando \n",
    "el mío de mi habitación. Sí, a los adultos también les gustan los pandas. Ella toma \n",
    "ella en todas partes con ella, y es súper suave y lindo. Uno de los \n",
    "orejas es un poco más bajo que el otro, y no creo que eso fuera \n",
    "diseñado para ser asimétrico. Es un poco pequeño para lo que pagué por él \n",
    "aunque. Creo que podría haber otras opciones que son más grandes para \n",
    "el mismo precio. Llegó un día antes de lo esperado, así que recibí \n",
    "jugar con él antes de dárselo a mi hija.\n",
    "\"\"\""
   ]
  },
  {
   "cell_type": "code",
   "execution_count": 5,
   "id": "c76e0729",
   "metadata": {},
   "outputs": [
    {
     "name": "stdout",
     "output_type": "stream",
     "text": [
      "Tengo esto para mi hija por su cumpleaños porque sigue tomando el mío de mi habitación. Sí, a los adultos también les gustan los pandas. Ella lo lleva a todas partes con ella, y es súper suave y lindo. Una de las orejas es un poco más baja que la otra, y no creo que eso haya sido diseñado para ser asimétrico. Es un poco pequeño para lo que pagué por él, aunque. Creo que podría haber otras opciones que son más grandes por el mismo precio. Llegó un día antes de lo esperado, así que pude jugar con él antes de dárselo a mi hija.\n"
     ]
    }
   ],
   "source": [
    "prompt = f\"revisa y corrige esta reseña: {texto}\"\n",
    "response = get_completion(prompt)\n",
    "print(response)"
   ]
  },
  {
   "cell_type": "code",
   "execution_count": 6,
   "id": "2303d21e",
   "metadata": {},
   "outputs": [
    {
     "ename": "NameError",
     "evalue": "name 'Markdown' is not defined",
     "output_type": "error",
     "traceback": [
      "\u001b[1;31m---------------------------------------------------------------------------\u001b[0m",
      "\u001b[1;31mNameError\u001b[0m                                 Traceback (most recent call last)",
      "\u001b[1;32m~\\AppData\\Local\\Temp\\ipykernel_12448\\119691307.py\u001b[0m in \u001b[0;36m<module>\u001b[1;34m\u001b[0m\n\u001b[0;32m      2\u001b[0m \u001b[1;33m\u001b[0m\u001b[0m\n\u001b[0;32m      3\u001b[0m \u001b[0mdiff\u001b[0m \u001b[1;33m=\u001b[0m \u001b[0mRedlines\u001b[0m\u001b[1;33m(\u001b[0m\u001b[0mtexto\u001b[0m\u001b[1;33m,\u001b[0m\u001b[0mresponse\u001b[0m\u001b[1;33m)\u001b[0m\u001b[1;33m\u001b[0m\u001b[1;33m\u001b[0m\u001b[0m\n\u001b[1;32m----> 4\u001b[1;33m \u001b[0mdisplay\u001b[0m\u001b[1;33m(\u001b[0m\u001b[0mMarkdown\u001b[0m\u001b[1;33m(\u001b[0m\u001b[0mdiff\u001b[0m\u001b[1;33m.\u001b[0m\u001b[0moutput_markdown\u001b[0m\u001b[1;33m)\u001b[0m\u001b[1;33m)\u001b[0m\u001b[1;33m\u001b[0m\u001b[1;33m\u001b[0m\u001b[0m\n\u001b[0m",
      "\u001b[1;31mNameError\u001b[0m: name 'Markdown' is not defined"
     ]
    }
   ],
   "source": [
    "from redlines import Redlines\n",
    "\n",
    "diff = Redlines(texto,response)\n",
    "display(Markdown(diff.output_markdown))"
   ]
  },
  {
   "cell_type": "code",
   "execution_count": null,
   "id": "a6755e41",
   "metadata": {},
   "outputs": [],
   "source": []
  }
 ],
 "metadata": {
  "kernelspec": {
   "display_name": "Python 3 (ipykernel)",
   "language": "python",
   "name": "python3"
  },
  "language_info": {
   "codemirror_mode": {
    "name": "ipython",
    "version": 3
   },
   "file_extension": ".py",
   "mimetype": "text/x-python",
   "name": "python",
   "nbconvert_exporter": "python",
   "pygments_lexer": "ipython3",
   "version": "3.9.13"
  }
 },
 "nbformat": 4,
 "nbformat_minor": 5
}
