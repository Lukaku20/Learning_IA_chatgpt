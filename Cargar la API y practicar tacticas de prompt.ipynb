{
 "cells": [
  {
   "cell_type": "markdown",
   "id": "40d7f4af",
   "metadata": {},
   "source": [
    "## Guía para Promptping en ChatGPT IA\n",
    "### Curso ofrecido por DeepLearning.Ai \n",
    "En esta lección practicamos las dos tácticas principales para escribir prompt efectivos dentro del modelo de Lenguaje."
   ]
  },
  {
   "cell_type": "markdown",
   "id": "4821358f",
   "metadata": {},
   "source": [
    "### Cargar la llave API y la libreria de Python"
   ]
  },
  {
   "cell_type": "markdown",
   "id": "1ea42ee0",
   "metadata": {},
   "source": [
    "Notas sobre el uso de la API de OpenAI fuera de esta clase\n",
    "Para instalar la biblioteca OpenAI Python:\n",
    "\n",
    "!pip install openai\n",
    "La biblioteca debe configurarse con la clave secreta de su cuenta, que está disponible en el sitio web.\n",
    "\n",
    "Puede establecerlo como la variable de entorno OPENAI_API_KEY antes de usar la biblioteca:\n",
    "\n",
    "!export OPENAI_API_KEY='sk-...'\n",
    "O bien, establezca openai.api_key en su valor:\n",
    "\n",
    "import openai\n",
    "openai.api_key = \"sk-...\""
   ]
  },
  {
   "cell_type": "code",
   "execution_count": 2,
   "id": "204f8b54",
   "metadata": {},
   "outputs": [],
   "source": [
    "import openai\n",
    "import os\n",
    "\n",
    "from dotenv import load_dotenv, find_dotenv\n",
    "_ = load_dotenv(find_dotenv())\n",
    "\n",
    "openai.api_key  = os.getenv('OPENAI_API_KEY')"
   ]
  },
  {
   "cell_type": "markdown",
   "id": "ac3f6777",
   "metadata": {},
   "source": [
    "Puede que no haya sido instalado anteriormente las librerias.\n",
    "Para eso se debe colocar en el powershell \n",
    "´´´*pip install openai\n",
    "pip install pyhon-dotenv*\n",
    "´´´"
   ]
  },
  {
   "cell_type": "code",
   "execution_count": 3,
   "id": "c1bb34a2",
   "metadata": {},
   "outputs": [],
   "source": [
    "#El motor que se utiliza en el curso sera el gpt 3.5 turbo\n",
    "\n",
    "def get_completion(prompt, model=\"gpt-3.5-turbo\"):\n",
    "    messages = [{\"role\": \"user\", \"content\": prompt}]\n",
    "    response = openai.ChatCompletion.create(\n",
    "        model=model,\n",
    "        messages=messages,\n",
    "        temperature=0, # this is the degree of randomness of the model's output\n",
    "    )\n",
    "    return response.choices[0].message[\"content\"]"
   ]
  },
  {
   "cell_type": "markdown",
   "id": "6a026d98",
   "metadata": {},
   "source": [
    "### Principios de incitación\n",
    "Principio 1: Escribir instrucciones claras y específicas\n",
    "Principio 2: Dar tiempo al modelo para \"pensar\"\n",
    "### Táctica\n",
    "Táctica 1: Use delimitadores para indicar claramente distintas partes de la entrada\n",
    "Los delimitadores pueden ser cualquier cosa como: ''', \"\"\", < >, <tag> </tag>, :"
   ]
  },
  {
   "cell_type": "code",
   "execution_count": 10,
   "id": "3d575814",
   "metadata": {},
   "outputs": [],
   "source": [
    "import os\n",
    "\n",
    "api_key = os.getenv(\"OPENAI_API_KEY\")\n",
    "\n",
    "# Utiliza la variable \"api_key\" en tus llamadas a la API de OpenAI"
   ]
  },
  {
   "cell_type": "code",
   "execution_count": 2,
   "id": "d99c9827",
   "metadata": {},
   "outputs": [
    {
     "name": "stdout",
     "output_type": "stream",
     "text": [
      "El texto dice que debes ser claro y específico en tus instrucciones al modelo, ya que esto guiará al modelo hacia la salida deseada.\n"
     ]
    }
   ],
   "source": [
    "texto = f\"\"\"Debe expresar lo que desea que haga un modelo por  \n",
    "proporcionar instrucciones que sean tan claras como  \n",
    "específicos como sea posible que pueda hacerlos.  \n",
    "Esto guiará el modelo hacia la salida deseada,  \n",
    "y reducir las posibilidades de recibir irrelevantes  \n",
    "o respuestas incorrectas. No confundas escribir un  \n",
    "Mensaje claro con la escritura de un mensaje corto.  \n",
    "En muchos casos, las indicaciones más largas proporcionan más claridad  \n",
    "y contexto para el modelo, que puede conducir a  \n",
    "resultados más detallados y relevantes.\"\"\"\n",
    "prompt = f\"\"\"Resumir el texto delimitado por triples backticks  \n",
    "en una sola oración. ´´´{texto}´´´\"\"\"\n",
    "response = get_completion(prompt)\n",
    "print(response)"
   ]
  },
  {
   "cell_type": "code",
   "execution_count": 1,
   "id": "65cef01d",
   "metadata": {},
   "outputs": [
    {
     "name": "stdout",
     "output_type": "stream",
     "text": [
      "El texto dice que debe ser claro y específico al escribir las instrucciones para el modelo, ya que esto guiará al modelo hacia la salida deseada.\n"
     ]
    }
   ],
   "source": [
    "import openai\n",
    "import os \n",
    "\n",
    "api_key = os.getenv(\"OPENAI_API_KEY\")\n",
    "openai.api_key = api_key\n",
    "\n",
    "def get_completion(prompt, model=\"text-davinci-002\"):\n",
    "    messages = [{\"type\": \"input\", \"data\": {\"text\": prompt}}]\n",
    "    completions = openai.Completion.create(\n",
    "        engine=model,\n",
    "        prompt=prompt,\n",
    "        max_tokens=60,\n",
    "        n=1,\n",
    "        stop=None,\n",
    "        temperature=0.7,\n",
    "    )\n",
    "\n",
    "    message = completions.choices[0].text\n",
    "    return message.strip()\n",
    "\n",
    "texto = \"\"\"Debe expresar lo que desea que haga un modelo por  \n",
    "proporcionar instrucciones que sean tan claras como  \n",
    "específicos como sea posible que pueda hacerlos.  \n",
    "Esto guiará el modelo hacia la salida deseada,  \n",
    "y reducir las posibilidades de recibir irrelevantes  \n",
    "o respuestas incorrectas. No confundas escribir un  \n",
    "Mensaje claro con la escritura de un mensaje corto.  \n",
    "En muchos casos, las indicaciones más largas proporcionan más claridad  \n",
    "y contexto para el modelo, que puede conducir a  \n",
    "resultados más detallados y relevantes.\"\"\"\n",
    "\n",
    "prompt = f\"\"\"Resumir el texto delimitado por triples backticks  \n",
    "en una sola oración. ````{texto}````\"\"\"\n",
    "\n",
    "response = get_completion(prompt)\n",
    "\n",
    "print(response)"
   ]
  },
  {
   "cell_type": "markdown",
   "id": "27d339d6",
   "metadata": {},
   "source": [
    "Tactica 2: preguntar con una estructura determinada de salida"
   ]
  },
  {
   "cell_type": "code",
   "execution_count": 3,
   "id": "87bf656e",
   "metadata": {},
   "outputs": [
    {
     "name": "stdout",
     "output_type": "stream",
     "text": [
      "{\n",
      "    \"book_id\": 1,\n",
      "    \"title\": \"The Grapes of Wrath\",\n",
      "    \"author\": \"John Steinbeck\",\n",
      "    \"genre\": \"Historical Fiction\"\n",
      "}\n",
      "\n",
      "{\n",
      "    \"book_id\": 2,\n"
     ]
    }
   ],
   "source": [
    "prompt = f\"\"\"\n",
    "Generate a list of three made-up book titles along \\ \n",
    "with their authors and genres. \n",
    "Provide them in JSON format with the following keys: \n",
    "book_id, title, author, genre.\n",
    "\"\"\"\n",
    "response = get_completion(prompt)\n",
    "print(response)"
   ]
  },
  {
   "cell_type": "code",
   "execution_count": 5,
   "id": "625925a1",
   "metadata": {},
   "outputs": [
    {
     "name": "stdout",
     "output_type": "stream",
     "text": [
      "{\n",
      "\"book_id\":1,\n",
      "\"title\":\"El libro de la vida\",\n",
      "\"author\":\"Juan Pérez\",\n",
      "\"genre\":\"Ficción\"\n",
      "}\n",
      "\n",
      "{\n",
      "\"book_id\":2,\n",
      "\"title\":\"La histor\n"
     ]
    }
   ],
   "source": [
    "#aplicando la tactica uno conjunto con la 2\n",
    "prompt = f\"\"\"\n",
    "traduce el siguiente texto encerrado entre parentesis al idioma castellano\n",
    "(Generate a list of three made-up book titles along \\ \n",
    "with their authors and genres. \n",
    "Provide them in JSON format with the following keys: \n",
    "book_id, title, author, genre.)\n",
    "\"\"\"\n",
    "response = get_completion(prompt)\n",
    "print(response)"
   ]
  },
  {
   "cell_type": "code",
   "execution_count": 4,
   "id": "52789dd9",
   "metadata": {},
   "outputs": [
    {
     "name": "stdout",
     "output_type": "stream",
     "text": [
      "Como modelo de lenguaje AI, no tengo la capacidad de tener opiniones o juicios de valor. Sin embargo, puedo proporcionar información histórica sobre los presidentes de Argentina y sus logros durante su mandato.\n",
      "\n",
      "Argentina ha tenido muchos presidentes a lo largo de su historia, cada uno con sus propias fortalezas y debilidades. Algunos de los presidentes más destacados incluyen a Juan Domingo Perón, Raúl Alfonsín, Néstor Kirchner y Mauricio Macri.\n",
      "\n",
      "Juan Domingo Perón es considerado por muchos como uno de los presidentes más influyentes de la historia argentina. Durante su mandato, implementó políticas sociales y económicas que beneficiaron a la clase trabajadora y los sindicatos. También fue un defensor de los derechos de las mujeres y los derechos de los trabajadores.\n",
      "\n",
      "Raúl Alfonsín, quien asumió la presidencia después de la dictadura militar, es recordado por su papel en la transición a la democracia y la promoción de los derechos humanos. Durante su mandato, estableció la Comisión Nacional sobre la Desaparición de Personas para investigar los crímenes cometidos durante la dictadura.\n",
      "\n",
      "Néstor Kirchner, quien asumió la presidencia en 2003, es recordado por su papel en la recuperación económica de Argentina después de la crisis financiera de 2001. También implementó políticas sociales y económicas que beneficiaron a los sectores más pobres de la sociedad.\n",
      "\n",
      "Mauricio Macri, quien asumió la presidencia en 2015, implementó políticas económicas liberales y promovió la inversión extranjera. Sin embargo, su mandato estuvo marcado por la inflación y la recesión económica.\n",
      "\n",
      "En resumen, cada presidente de Argentina ha tenido su propio impacto en la historia del país. No hay un \"mejor\" presidente, ya que cada uno ha enfrentado desafíos únicos y ha tenido diferentes enfoques para abordarlos.\n"
     ]
    }
   ],
   "source": [
    "prompt = f\"\"\"\n",
    "Actua como un historiador para responder  / \n",
    "cual fue el mejor presidente de argentina  / \n",
    "y por que\n",
    "\"\"\"\n",
    "response = get_completion(prompt)\n",
    "print(response)"
   ]
  },
  {
   "cell_type": "markdown",
   "id": "e0db0d0f",
   "metadata": {},
   "source": [
    "Tactica 3 pedirle al modulo que determine si se cumplen determinadas condiciones"
   ]
  },
  {
   "cell_type": "code",
   "execution_count": 3,
   "id": "0f926ebc",
   "metadata": {},
   "outputs": [
    {
     "name": "stdout",
     "output_type": "stream",
     "text": [
      "Finalización del texto 1:\n",
      "Paso 1 - Toma una taza y pon una bolsita de té en ella.\n",
      "Paso 2 - Una vez que el agua es lo suficientemente caliente, simplemente viértalo so\n"
     ]
    }
   ],
   "source": [
    "text_1 = f\"\"\"¡Hacer una taza de té es fácil! Primero, necesitas obtener algo  \n",
    "agua hirviendo. Mientras eso sucede,  \n",
    "Toma una taza y pon una bolsita de té en ella. Una vez que el agua es  \n",
    "Lo suficientemente caliente, simplemente viértalo sobre la bolsa de té.  \n",
    "Déjalo reposar un poco para que el té se empape. Después de un  \n",
    "Unos minutos, saca la bolsita de té. Si usted  \n",
    "Por ejemplo, puede agregar un poco de azúcar o leche al gusto.  \n",
    "¡Y eso es todo! Tienes un delicioso  \n",
    "taza de té para disfrutar.\"\"\"\n",
    "prompt = f\"\"\"Se le proporcionará un texto delimitado por comillas triples. \n",
    "Si contiene una secuencia de instrucciones,  \n",
    "Vuelva a escribir esas instrucciones en el siguiente formato:\n",
    "\n",
    "Paso 1 - ...\n",
    "Paso 2 - ...\n",
    "...\n",
    "Paso N - ...\n",
    "\n",
    "Si el texto no contiene una secuencia de instrucciones,  \n",
    "luego simplemente escriba \"No se proporcionan pasos.\"\n",
    "\n",
    "\"\\\"\\\"{text_1}\"\\\"\\\"\n",
    "\"\"\"\n",
    "responde = get_completion(prompt)\n",
    "print('Finalización del texto 1:')\n",
    "print(responde)"
   ]
  },
  {
   "cell_type": "markdown",
   "id": "93d5be9c",
   "metadata": {},
   "source": [
    "Tactica 4 indicaciones de pocos disparos"
   ]
  },
  {
   "cell_type": "code",
   "execution_count": 4,
   "id": "ca817c10",
   "metadata": {},
   "outputs": [
    {
     "name": "stdout",
     "output_type": "stream",
     "text": [
      "<abuelo>: La vida es una rueda de molino,  \n",
      "a veces es una piedra  \n",
      "a veces es el aceite que hace que la rueda gire.  \n",
      "Resiliencia es lo que te\n"
     ]
    }
   ],
   "source": [
    "prompt = f\"\"\"\n",
    "Tu tarea es responder con un estilo consistente.\n",
    "\n",
    "<niño>: Enséñame sobre la paciencia.\n",
    "\n",
    "<abuelo>: El río que esculpe lo más profundo  \n",
    "el valle fluye de un manantial modesto; el \n",
    "La sinfonía más grandiosa se origina en una sola nota;  \n",
    "El tapiz más intrincado comienza con un hilo solitario.\n",
    "\n",
    "<niño>: Enséñame sobre la resiliencia.\n",
    "\"\"\"\n",
    "response = get_completion(prompt)\n",
    "print(response)"
   ]
  },
  {
   "cell_type": "markdown",
   "id": "84907475",
   "metadata": {},
   "source": [
    "Una nota sobre la barra invertida\n",
    "En el curso, estamos usando una barra diagonal inversa  para que el texto encaje en la pantalla sin insertar caracteres 'n' de nueva línea.\n",
    "GPT-3 no se ve realmente afectado si inserta caracteres de nueva línea o no. Pero al trabajar con LLM en general, puede considerar si los caracteres de nueva línea en su mensaje pueden afectar el rendimiento del modelo.\n"
   ]
  },
  {
   "cell_type": "code",
   "execution_count": null,
   "id": "7e523dd2",
   "metadata": {},
   "outputs": [],
   "source": []
  }
 ],
 "metadata": {
  "kernelspec": {
   "display_name": "Python 3 (ipykernel)",
   "language": "python",
   "name": "python3"
  },
  "language_info": {
   "codemirror_mode": {
    "name": "ipython",
    "version": 3
   },
   "file_extension": ".py",
   "mimetype": "text/x-python",
   "name": "python",
   "nbconvert_exporter": "python",
   "pygments_lexer": "ipython3",
   "version": "3.9.13"
  }
 },
 "nbformat": 4,
 "nbformat_minor": 5
}
