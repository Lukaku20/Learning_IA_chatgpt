{
 "cells": [
  {
   "cell_type": "markdown",
   "id": "fb06ede8",
   "metadata": {},
   "source": [
    "# Inferir\n",
    "#### En esta lección, inferirá opiniones y temas a partir de reseñas de productos y artículos de noticias.\n",
    "\n"
   ]
  },
  {
   "cell_type": "code",
   "execution_count": 1,
   "id": "9fffa4d8",
   "metadata": {},
   "outputs": [],
   "source": [
    "import openai\n",
    "import os\n",
    "\n",
    "from dotenv import load_dotenv, find_dotenv\n",
    "_ = load_dotenv(find_dotenv()) # read local .env file\n",
    "\n",
    "openai.api_key  = os.getenv('OPENAI_API_KEY')"
   ]
  },
  {
   "cell_type": "code",
   "execution_count": 2,
   "id": "8c27e5b2",
   "metadata": {},
   "outputs": [],
   "source": [
    "def get_completion(prompt, model=\"gpt-3.5-turbo\"):\n",
    "    messages = [{\"role\": \"user\", \"content\": prompt}]\n",
    "    response = openai.ChatCompletion.create(\n",
    "        model=model,\n",
    "        messages=messages,\n",
    "        temperature=0, # this is the degree of randomness of the model's output\n",
    "    )\n",
    "    return response.choices[0].message[\"content\"]"
   ]
  },
  {
   "cell_type": "code",
   "execution_count": 3,
   "id": "91512338",
   "metadata": {},
   "outputs": [],
   "source": [
    "## Texto de revisión del producto\n",
    "\n",
    "revision_lampara = \"\"\"Necesitaba una linda lámpara para mi dormitorio, y esta tenía \\\n",
    "almacenamiento adicional y un precio no demasiado alto. \\\n",
    "Lo tengo rápido. La cuerda de nuestra lámpara se rompió durante el \\\n",
    "viaje y la compañía felizmente envió uno nuevo. \\\n",
    "Llegó a los pocos días también. Fue fácil de poner \\\n",
    "juntos. Me faltaba una pieza, así que contacté a su \\\n",
    "servicio de apoyo y muy rápidamente me consiguieron la pieza que faltaba! \\\n",
    "Lumina me parece una gran empresa que se preocupa \\\n",
    "sobre sus clientes y productos!!\"\"\"\n",
    "\n"
   ]
  },
  {
   "cell_type": "markdown",
   "id": "487c22a9",
   "metadata": {},
   "source": [
    "## Sentiment (positive/negative)"
   ]
  },
  {
   "cell_type": "code",
   "execution_count": 4,
   "id": "31a05258",
   "metadata": {},
   "outputs": [
    {
     "name": "stdout",
     "output_type": "stream",
     "text": [
      "Positiva.\n"
     ]
    }
   ],
   "source": [
    "prompt = f\"\"\"¿Cuál es el sentimiento de la siguiente revisión del producto,\n",
    "que está delimitado con triple backticks?\n",
    "\n",
    "Dé su respuesta en una sola palabra, ya sea \"positiva\" \\\n",
    "o \"negativo\".\n",
    "\n",
    "Texto de la reseña: '''{revision_lampara}'''\n",
    "\"\"\"\n",
    "response = get_completion(prompt)\n",
    "print(response)\n"
   ]
  },
  {
   "cell_type": "markdown",
   "id": "d19f2cec",
   "metadata": {},
   "source": [
    "## Identificar tipos de emociones"
   ]
  },
  {
   "cell_type": "code",
   "execution_count": 5,
   "id": "c9961198",
   "metadata": {},
   "outputs": [
    {
     "name": "stdout",
     "output_type": "stream",
     "text": [
      "contento, satisfecho, agradecido, impresionado, confiado\n"
     ]
    }
   ],
   "source": [
    "prompt = f\"\"\"Identifique una lista de emociones que el escritor de la \\\n",
    "siguiente revisión es expresa. No incluya más de \\\n",
    "cinco elementos de la lista. Formatee su respuesta como una lista de \\\n",
    "palabras en minúsculas separadas por comas.\n",
    "Texto de la reseña: '''{revision_lampara}'''\n",
    "\"\"\"\n",
    "response = get_completion(prompt)\n",
    "print(response)\n"
   ]
  },
  {
   "cell_type": "markdown",
   "id": "b2cb7ab9",
   "metadata": {},
   "source": [
    "## Identificar la ira\n",
    "\n"
   ]
  },
  {
   "cell_type": "code",
   "execution_count": 6,
   "id": "90b55ec6",
   "metadata": {},
   "outputs": [
    {
     "name": "stdout",
     "output_type": "stream",
     "text": [
      "No.\n"
     ]
    }
   ],
   "source": [
    "prompt = f\"\"\"¿El escritor de la siguiente reseña está expresando enojo?\\\n",
    "La reseña está delimitada con triples comillas invertidas. \\\n",
    "Dé su respuesta como sí o no.\n",
    "Texto de la reseña: '''{revision_lampara}'''\n",
    "\"\"\"\n",
    "response = get_completion(prompt)\n",
    "print(response)\n"
   ]
  },
  {
   "cell_type": "markdown",
   "id": "d1cc1810",
   "metadata": {},
   "source": [
    "## Extraiga el nombre del producto y de la empresa de las reseñas de los clientes"
   ]
  },
  {
   "cell_type": "code",
   "execution_count": 7,
   "id": "6172be32",
   "metadata": {},
   "outputs": [
    {
     "name": "stdout",
     "output_type": "stream",
     "text": [
      "{\n",
      "  \"Artículo\": \"lámpara\",\n",
      "  \"Marca\": \"Lumina\"\n",
      "}\n"
     ]
    }
   ],
   "source": [
    "prompt = f\"\"\"Identifique los siguientes elementos del texto de revisión:\n",
    "- Artículo comprado por el revisor\n",
    "- Empresa que fabricó el artículo.\n",
    "\n",
    "La reseña está delimitada con triples comillas invertidas. \\\n",
    "Formatee su respuesta como un objeto JSON con \\\n",
    "\"Artículo\" y \"Marca\" como claves.\n",
    "Si la información no está presente, use \"desconocido\" \\\n",
    "como el valor.\n",
    "Haga su respuesta lo más breve posible.\n",
    "Texto de la reseña: '''{revision_lampara}'''\n",
    "\"\"\"\n",
    "response = get_completion(prompt)\n",
    "print(response)\n"
   ]
  },
  {
   "cell_type": "markdown",
   "id": "f34f848f",
   "metadata": {},
   "source": [
    "## Hacer varias tareas a la vez"
   ]
  },
  {
   "cell_type": "code",
   "execution_count": 8,
   "id": "cf9edb7e",
   "metadata": {},
   "outputs": [
    {
     "name": "stdout",
     "output_type": "stream",
     "text": [
      "{\n",
      "  \"Sentimiento\": \"positivo\",\n",
      "  \"Ira\": false,\n",
      "  \"Artículo\": \"lámpara\",\n",
      "  \"Marca\": \"Lumina\"\n",
      "}\n"
     ]
    }
   ],
   "source": [
    "prompt = f\"\"\"Identifique los siguientes elementos del texto de revisión:\n",
    "- Sentimiento (positivo o negativo)\n",
    "- ¿El revisor está expresando enojo? (verdadero o falso)\n",
    "- Artículo comprado por el revisor\n",
    "- Empresa que fabricó el artículo.\n",
    "\n",
    "La reseña está delimitada con triples comillas invertidas. \\\n",
    "Formatee su respuesta como un objeto JSON con \\\n",
    "\"Sentimiento\", \"Ira\", \"Artículo\" y \"Marca\" como claves.\n",
    "Si la información no está presente, use \"desconocido\" \\\n",
    "como el valor.\n",
    "Haga su respuesta lo más breve posible.\n",
    "Formatee el valor de Ira como un valor booleano.\n",
    "Texto de la reseña: '''{revision_lampara}'''\n",
    "\"\"\"\n",
    "response = get_completion(prompt)\n",
    "print(response)\n",
    "\n"
   ]
  },
  {
   "cell_type": "markdown",
   "id": "636dff2b",
   "metadata": {},
   "source": [
    "## Inferir temas"
   ]
  },
  {
   "cell_type": "code",
   "execution_count": 9,
   "id": "598b9ee3",
   "metadata": {},
   "outputs": [],
   "source": [
    "historia = \"\"\"\n",
    "En una encuesta reciente realizada por el gobierno,\n",
    "Se pidió a los empleados del sector público que calificaran su nivel\n",
    "de satisfacción con el departamento en el que trabajan.\n",
    "Los resultados revelaron que la NASA fue la más popular.\n",
    "departamento con un índice de satisfacción del 95%.\n",
    "\n",
    "Un empleado de la NASA, John Smith, comentó sobre los hallazgos,\n",
    "diciendo: \"No me sorprende que la NASA esté en la cima.\n",
    "Es un gran lugar para trabajar con gente increíble y\n",
    "increíbles oportunidades. Estoy orgulloso de ser parte de\n",
    "una organización tan innovadora\".\n",
    "\n",
    "Los resultados también fueron bien recibidos por el equipo directivo de la NASA,\n",
    "con el director Tom Johnson afirmando: \"Estamos encantados de\n",
    "escuchar que nuestros empleados están satisfechos con su trabajo en la NASA.\n",
    "Contamos con un equipo talentoso y dedicado que trabaja incansablemente\n",
    "para lograr nuestras metas, y es fantástico ver que sus\n",
    "el trabajo duro está dando sus frutos\".\n",
    "\n",
    "La encuesta también reveló que la\n",
    "La Administración del Seguro Social tuvo la satisfacción más baja\n",
    "calificación, con solo el 45% de los empleados indicando que estaban\n",
    "satisfecho con su trabajo. El gobierno se ha comprometido a\n",
    "abordar las inquietudes planteadas por los empleados en la encuesta y\n",
    "trabajar para mejorar la satisfacción laboral en todos los departamentos.\n",
    "\"\"\""
   ]
  },
  {
   "cell_type": "code",
   "execution_count": 16,
   "id": "f36f75ad",
   "metadata": {},
   "outputs": [
    {
     "name": "stdout",
     "output_type": "stream",
     "text": [
      "Departamentos públicos, Satisfacción laboral, NASA, Administración del Seguro Social, Encuesta gubernamental.\n"
     ]
    }
   ],
   "source": [
    "prompt = f\"\"\"Determine cinco temas que se están discutiendo en el \n",
    "siguiente texto, que está delimitado por triples comillas simples.\n",
    "\n",
    "Haga que cada tema tenga una o dos palabras.\n",
    "\n",
    "Formatee su respuesta, sin enumerar, sino como una lista de elementos separados por comas (,)\n",
    "\n",
    "Ejemplo de texto: '''{historia}'''\n",
    "\"\"\"\n",
    "response = get_completion(prompt)\n",
    "print(response)"
   ]
  },
  {
   "cell_type": "code",
   "execution_count": 18,
   "id": "962f1ef4",
   "metadata": {},
   "outputs": [],
   "source": [
    "lista_temas = response.split(sep=',')"
   ]
  },
  {
   "cell_type": "code",
   "execution_count": 19,
   "id": "e3aa0ecd",
   "metadata": {},
   "outputs": [
    {
     "name": "stdout",
     "output_type": "stream",
     "text": [
      "['Departamentos públicos', ' Satisfacción laboral', ' NASA', ' Administración del Seguro Social', ' Encuesta gubernamental.']\n"
     ]
    }
   ],
   "source": [
    "print(lista_temas)"
   ]
  },
  {
   "cell_type": "markdown",
   "id": "602f11ea",
   "metadata": {},
   "source": [
    "## Hacer una alerta de noticias para ciertos temas\n",
    "\n"
   ]
  },
  {
   "cell_type": "code",
   "execution_count": 20,
   "id": "debcc5d6",
   "metadata": {},
   "outputs": [
    {
     "name": "stdout",
     "output_type": "stream",
     "text": [
      "Departamentos públicos: 1\n",
      "Satisfacción laboral: 1\n",
      "NASA: 1\n",
      "Administración del Seguro Social: 1\n",
      "Encuesta gubernamental: 1\n"
     ]
    }
   ],
   "source": [
    "prompt = f\"\"\"Determine si cada elemento de la siguiente lista de \n",
    "temas es un tema en el texto a continuación, que\n",
    "está delimitado con tres comillas graves.\n",
    "\n",
    "Dé su respuesta como una lista con 0 o 1 para cada tema.\n",
    "Lista de temas: {\",\".join(lista_temas)}\n",
    "Ejemplo de texto: '''{historia}'''\n",
    "\"\"\"\n",
    "response = get_completion(prompt)\n",
    "print(response)"
   ]
  },
  {
   "cell_type": "code",
   "execution_count": 22,
   "id": "d22b745b",
   "metadata": {},
   "outputs": [
    {
     "name": "stdout",
     "output_type": "stream",
     "text": [
      "ALERTA, nueva historia sobre NASA\n"
     ]
    }
   ],
   "source": [
    "\n",
    "topic_dict = {i.split(': ')[0]: int(i.split(': ')[1]) for i in response.split(sep='\\n')}\n",
    "if topic_dict['NASA'] == 1:\n",
    "    print('ALERTA, nueva historia sobre NASA')"
   ]
  },
  {
   "cell_type": "code",
   "execution_count": null,
   "id": "b07cc90d",
   "metadata": {},
   "outputs": [],
   "source": []
  }
 ],
 "metadata": {
  "kernelspec": {
   "display_name": "Python 3 (ipykernel)",
   "language": "python",
   "name": "python3"
  },
  "language_info": {
   "codemirror_mode": {
    "name": "ipython",
    "version": 3
   },
   "file_extension": ".py",
   "mimetype": "text/x-python",
   "name": "python",
   "nbconvert_exporter": "python",
   "pygments_lexer": "ipython3",
   "version": "3.9.13"
  }
 },
 "nbformat": 4,
 "nbformat_minor": 5
}
